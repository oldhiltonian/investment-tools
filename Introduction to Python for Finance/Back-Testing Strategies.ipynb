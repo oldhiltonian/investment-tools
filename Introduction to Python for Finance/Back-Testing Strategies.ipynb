{
 "cells": [
  {
   "cell_type": "markdown",
   "id": "1b4743f3",
   "metadata": {},
   "source": [
    "Dumping a whole lot of stuff I wrote here for now\n",
    "\n",
    "Welcome to our blog on using GMMA (Guppy Multiple Moving Average) trading techniques in Python. In this blog, we will explore the various applications of GMMA in the world of algorithmic trading. We will delve into the details of how GMMA is used to analyze market trends and make predictions about future market movements. We will also discuss how to implement GMMA in Python, using popular libraries such as Pandas, NumPy, and Matplotlib. Whether you're a seasoned trader or a beginner looking to get started with algorithmic trading, this blog will provide valuable insights and practical examples to help you understand and utilize GMMA in your trading strategies.\n",
    "\n",
    "\n",
    "Backtesting is the process of testing a trading strategy using historical data. It involves simulating the execution of a strategy using historical market data, and evaluating its performance based on metrics such as profit, return, and risk. Backtesting allows traders to evaluate the effectiveness of a strategy and identify potential issues before implementing it in live trading. It also helps traders to optimize their strategies by adjusting parameters and fine-tuning their approach. Backtesting is a crucial step in the development of any trading strategy, as it allows traders to identify and address any weaknesses before committing real capital.\n",
    "\n",
    "\n",
    "Guppy Multiple Moving Average (GMMA) trading is a technical analysis method that aims to identify the current trend of a financial market and predict future market movements. The GMMA indicator is composed of multiple moving averages of different lengths, which are used to identify different aspects of market behavior. These moving averages are grouped into two categories: short-term and long-term. The short-term moving averages are used to identify short-term market trends and changes in momentum, while the long-term moving averages are used to identify long-term market trends and the overall direction of the market.\n",
    "\n",
    "The GMMA indicator is believed to be more accurate than a single moving average in identifying market trends, as it takes into account both short-term and long-term market movements. Traders use GMMA to identify potential buy and sell signals based on the relationship between the short-term and long-term moving averages. For example, when the short-term moving averages are above the long-term moving averages, it is considered a bullish signal, indicating that the market is in an uptrend. Conversely, when the short-term moving averages are below the long-term moving averages, it is considered a bearish signal, indicating that the market is in a downtrend.\n",
    "\n",
    "\n",
    "# GMMA Trading\n",
    "\n",
    "Guppy Multiple Moving Average (GMMA) trading is a technical analysis method that aims to identify the current trend of a financial market and predict future market movements. \n",
    "\n",
    "## The GMMA Indicator\n",
    "\n",
    "The GMMA indicator is composed of multiple moving averages of different lengths, which are used to identify different aspects of market behavior. These moving averages are grouped into two categories: short-term and long-term. \n",
    "\n",
    "### Short-term moving averages\n",
    "\n",
    "- The short-term moving averages are used to identify short-term market trends and changes in momentum\n",
    "\n",
    "### Long-term moving averages\n",
    "\n",
    "- The long-term moving averages are used to identify long-term market trends and the overall direction of the market.\n",
    "\n",
    "## Market Trends Identification\n",
    "\n",
    "The GMMA indicator is believed to be more accurate than a single moving average in identifying market trends, as it takes into account both short-term and long-term market movements. Traders use GMMA to identify potential buy and sell signals based on the relationship between the short-term and long-term moving averages. \n",
    "\n",
    "- When the short-term moving averages are above the long-term moving averages, it is considered a bullish signal, indicating that the market is in an uptrend.\n",
    "- Conversely, when the short-term moving averages are below the long-term moving averages, it is considered a bearish signal, indicating that the market is in a downtrend.\n",
    "- n GMMA (Guppy Multiple Moving Average) trading, the magnitude of the difference between the short-term and long-term moving averages can indicate the strength of the current trend. A larger difference between the two moving averages suggests a stronger trend, while a smaller difference suggests a weaker trend. Additionally, a crossover of the short-term moving average crossing above the long-term moving average can indicate a potential trend reversal to the upside, while a crossover of the short-term moving average crossing below the long-term moving average can indicate a potential trend reversal to the downside."
   ]
  },
  {
   "cell_type": "markdown",
   "id": "aca9ef56",
   "metadata": {},
   "source": [
    "Going over how to back-test the red-white-blue strategy for leveraged ETFs\n",
    "\n",
    "We will be using exponential moving averages. We will then check on every date to determine if we are in a red-white-blue pattern or a blue-white-red pattern. Based on that, the program will simulate entering and exiting the positions and determine the profitability of the strategy.\n",
    "\n",
    "https://www.investopedia.com/terms/g/guppy-multiple-moving-average.asp"
   ]
  },
  {
   "cell_type": "code",
   "execution_count": 1,
   "id": "3ac0f0b2",
   "metadata": {},
   "outputs": [],
   "source": [
    "import numpy as np\n",
    "import pandas as pd\n",
    "import yfinance as yf\n",
    "import datetime as dt\n",
    "from pandas_datareader import data as pdr"
   ]
  },
  {
   "cell_type": "code",
   "execution_count": 2,
   "id": "bc921ee4",
   "metadata": {},
   "outputs": [],
   "source": [
    "yf.pdr_override()"
   ]
  },
  {
   "cell_type": "code",
   "execution_count": 74,
   "id": "299fa071",
   "metadata": {},
   "outputs": [
    {
     "name": "stdout",
     "output_type": "stream",
     "text": [
      "[*********************100%***********************]  1 of 1 completed\n"
     ]
    }
   ],
   "source": [
    "start_year = 2020\n",
    "start_month = 1\n",
    "start_day = 1\n",
    "start = dt.datetime(start_year, start_month, start_day)\n",
    "end = dt.datetime.now()\n",
    "\n",
    "stock = 'NVDA'\n",
    "\n",
    "data = pdr.get_data_yahoo(stock, start, end)"
   ]
  },
  {
   "cell_type": "code",
   "execution_count": 75,
   "id": "787541fa",
   "metadata": {},
   "outputs": [],
   "source": [
    "'''Calculating the exponential moving averages'''\n",
    "\n",
    "# short_term < 20 < long_term\n",
    "ema_timeframes = [3, 5, 8, 10, 12, 15, 30, 35, 40, 45, 50, 60]\n",
    "\n",
    "for time in ema_timeframes:\n",
    "    # Looking at column 4, \"Close\"\n",
    "    ema_string = f\"ema_{time}\"\n",
    "    data[ema_string] = round(data.iloc[:, 4].ewm(span=time, adjust=False).mean(), 2)"
   ]
  },
  {
   "cell_type": "code",
   "execution_count": 76,
   "id": "75ce023b",
   "metadata": {},
   "outputs": [
    {
     "name": "stdout",
     "output_type": "stream",
     "text": [
      "Buying at 60.8692512512207\n",
      "Selling at 58.9035530090332\n",
      "Buying at 62.473690032958984\n",
      "Selling at 62.969749450683594\n",
      "Buying at 67.32479858398438\n",
      "Selling at 61.18485641479492\n",
      "Buying at 66.54700469970703\n",
      "Selling at 126.00472259521484\n",
      "Buying at 141.30252075195312\n",
      "Selling at 130.60256958007812\n",
      "Buying at 135.16046142578125\n",
      "Selling at 129.07395935058594\n",
      "Buying at 134.60398864746094\n",
      "Selling at 128.36276245117188\n",
      "Buying at 138.424560546875\n",
      "Selling at 128.94422912597656\n",
      "Buying at 135.3226776123047\n",
      "Selling at 132.83465576171875\n",
      "Buying at 141.22828674316406\n",
      "Selling at 144.3737030029297\n",
      "Buying at 147.90603637695312\n",
      "Selling at 142.4490203857422\n",
      "Buying at 155.89183044433594\n",
      "Selling at 187.56597900390625\n",
      "Buying at 193.8607635498047\n",
      "Selling at 190.16529846191406\n",
      "Buying at 197.7359619140625\n",
      "Selling at 212.23553466796875\n",
      "Buying at 219.17820739746094\n",
      "Selling at 206.77130126953125\n",
      "Buying at 221.98521423339844\n",
      "Selling at 281.3468933105469\n",
      "Buying at 309.1609191894531\n",
      "Selling at 275.78216552734375\n",
      "Buying at 276.7084655761719\n",
      "Selling at 243.88352966308594\n",
      "Buying at 189.7850341796875\n",
      "Selling at 170.7655487060547\n",
      "Buying at 180.86997985839844\n",
      "Selling at 170.245849609375\n",
      "Buying at 163.22824096679688\n",
      "Selling at 153.38999938964844\n",
      "Buying at 168.99000549316406\n"
     ]
    }
   ],
   "source": [
    "position_exists = 0 # Bool. Tracks if we are holding a position.\n",
    "num = 0 # Keeps track of the row we are on\n",
    "percent_change = [] # Holds trading results\n",
    "\n",
    "\n",
    "for i in data.index:\n",
    "    short_ema_min = min(data['ema_3'][i], data['ema_5'][i], data['ema_8'][i], data['ema_10'][i],\n",
    "                       data['ema_12'][i], data['ema_15'][i])\n",
    "    long_ema_max = max(data['ema_30'][i], data['ema_35'][i], data['ema_40'][i], data['ema_45'][i],\n",
    "                       data['ema_50'][i], data['ema_60'][i])\n",
    "    \n",
    "    close_price = data['Adj Close'][i]\n",
    "    \n",
    "    if short_ema_min > long_ema_max: # RED-WHITE-BLUE\n",
    "        if position_exists == 0:\n",
    "            buy_price = close_price\n",
    "            print(f\"Buying at {buy_price}\")\n",
    "            position_exists = 1\n",
    "            \n",
    "    elif short_ema_min < long_ema_max: # BLUE-WHITE-RED\n",
    "        if position_exists == 1:\n",
    "            selling_price = close_price\n",
    "            print(f\"Selling at {selling_price}\")\n",
    "            position_exists = 0\n",
    "            \n",
    "            change = 100*((selling_price/buy_price)-1)\n",
    "            percent_change.append(change)\n",
    "    \n",
    "    if num == len(data) and position_exists == 1:\n",
    "        selling_price = close_price\n",
    "        print(\"Selling at {selling_price}\")\n",
    "        position_exists = 0\n",
    "    \n",
    "    num += 1"
   ]
  },
  {
   "cell_type": "code",
   "execution_count": 77,
   "id": "a115039a",
   "metadata": {},
   "outputs": [
    {
     "name": "stdout",
     "output_type": "stream",
     "text": [
      "[-3.229378055062049, 0.794029322524259, -9.119881972658527, 89.34694831692337, -7.572371048254711, -4.503167576516088, -4.636731986178622, -6.848735067999801, -1.8385845554387048, 2.2271857375752546, -3.689515401050425, 20.31802979623114, -1.9062470508330764, 7.3327950128807995, -5.660647687217746, 26.741276117036648, -10.79656308100667, -11.862642454663153, -10.021593934337968, -5.873904700681109, -6.027291306257288]\n"
     ]
    }
   ],
   "source": [
    "print(percent_change)"
   ]
  },
  {
   "cell_type": "code",
   "execution_count": 78,
   "id": "63361622",
   "metadata": {},
   "outputs": [],
   "source": [
    "gains = 0\n",
    "num_gains = 0\n",
    "losses = 0\n",
    "num_losses = 0\n",
    "total_return = 1\n",
    "\n",
    "for pct in percent_change:\n",
    "    if pct > 0:\n",
    "        gains += pct\n",
    "        num_gains += 1\n",
    "    else:\n",
    "        losses += pct\n",
    "        num_losses += 1\n",
    "        \n",
    "    total_return = total_return * ((pct/100) + 1)\n",
    "\n",
    "total_return = round((total_return-1)*100, 2)"
   ]
  },
  {
   "cell_type": "code",
   "execution_count": 79,
   "id": "476eea6d",
   "metadata": {},
   "outputs": [],
   "source": [
    "if num_gains > 0:\n",
    "    average_gain = gains/num_gains\n",
    "    max_return = str(max(percent_change))\n",
    "\n",
    "if num_losses > 0:\n",
    "    average_loss = losses/num_losses\n",
    "    max_loss = str(min(percent_change))"
   ]
  },
  {
   "cell_type": "code",
   "execution_count": 80,
   "id": "6e47acf3",
   "metadata": {},
   "outputs": [
    {
     "name": "stdout",
     "output_type": "stream",
     "text": [
      "Average Gain:  24.46004405052858\n",
      "Average Loss:  -6.239150391877062\n",
      "Max Gain:  89.34694831692337\n",
      "Max Loss:  -11.862642454663153\n",
      "Total return over 21 trades: 20.55%\n"
     ]
    }
   ],
   "source": [
    "print('Average Gain: ', average_gain)\n",
    "print('Average Loss: ', average_loss)\n",
    "\n",
    "print('Max Gain: ', max_return)\n",
    "print('Max Loss: ', max_loss)\n",
    "\n",
    "print(f\"Total return over {len(percent_change)} trades: {total_return}%\")"
   ]
  },
  {
   "cell_type": "code",
   "execution_count": 81,
   "id": "4bd14c8f",
   "metadata": {},
   "outputs": [],
   "source": [
    "import matplotlib.pyplot as plt"
   ]
  },
  {
   "cell_type": "code",
   "execution_count": 84,
   "id": "a2d2cd47",
   "metadata": {},
   "outputs": [
    {
     "data": {
      "text/plain": [
       "[<matplotlib.lines.Line2D at 0x187442144f0>]"
      ]
     },
     "execution_count": 84,
     "metadata": {},
     "output_type": "execute_result"
    },
    {
     "data": {
      "image/png": "[encoded data removed]",
      "text/plain": [
       "<Figure size 432x288 with 1 Axes>"
      ]
     },
     "metadata": {
      "needs_background": "light"
     },
     "output_type": "display_data"
    }
   ],
   "source": [
    "plt.plot(data['Close'])\n",
    "plt.plot(data['ema_3'])\n",
    "plt.plot(data['ema_60'])"
   ]
  },
  {
   "cell_type": "code",
   "execution_count": null,
   "id": "07c4940e",
   "metadata": {},
   "outputs": [],
   "source": []
  }
 ],
 "metadata": {
  "kernelspec": {
   "display_name": "Python 3 (ipykernel)",
   "language": "python",
   "name": "python3"
  },
  "language_info": {
   "codemirror_mode": {
    "name": "ipython",
    "version": 3
   },
   "file_extension": ".py",
   "mimetype": "text/x-python",
   "name": "python",
   "nbconvert_exporter": "python",
   "pygments_lexer": "ipython3",
   "version": "3.9.12"
  }
 },
 "nbformat": 4,
 "nbformat_minor": 5
}
