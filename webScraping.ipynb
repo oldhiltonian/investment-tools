{
 "cells": [
  {
   "cell_type": "code",
   "execution_count": 7,
   "id": "c1248e8a",
   "metadata": {},
   "outputs": [],
   "source": [
    "import pandas as pd\n",
    "from bs4 import BeautifulSoup\n",
    "import requests"
   ]
  },
  {
   "cell_type": "code",
   "execution_count": 8,
   "id": "c65776d2",
   "metadata": {},
   "outputs": [],
   "source": [
    "symbols = ['AAPL', 'MSFT', 'META']\n",
    "ticker = 'AAPL'\n",
    "\n",
    "url_income_statement = f'https://finance.yahoo.com/quote/{ticker}/financials?p={ticker}'\n",
    "url_balance_sheet = f'https://finance.yahoo.com/quote/{ticker}/balance-sheet?p={ticker}'\n",
    "url_cash_flow = f'https://finance.yahoo.com/quote/{ticker}/cash-flow?p={ticker}'"
   ]
  },
  {
   "cell_type": "code",
   "execution_count": 10,
   "id": "8f139127",
   "metadata": {},
   "outputs": [],
   "source": [
    "data = requests.get(url_cash_flow)"
   ]
  },
  {
   "cell_type": "code",
   "execution_count": 11,
   "id": "d1d5672d",
   "metadata": {},
   "outputs": [
    {
     "data": {
      "text/plain": [
       "<Response [404]>"
      ]
     },
     "execution_count": 11,
     "metadata": {},
     "output_type": "execute_result"
    }
   ],
   "source": [
    "data"
   ]
  },
  {
   "cell_type": "code",
   "execution_count": null,
   "id": "3d45e88f",
   "metadata": {},
   "outputs": [],
   "source": []
  }
 ],
 "metadata": {
  "kernelspec": {
   "display_name": "Python 3 (ipykernel)",
   "language": "python",
   "name": "python3"
  },
  "language_info": {
   "codemirror_mode": {
    "name": "ipython",
    "version": 3
   },
   "file_extension": ".py",
   "mimetype": "text/x-python",
   "name": "python",
   "nbconvert_exporter": "python",
   "pygments_lexer": "ipython3",
   "version": "3.9.12"
  }
 },
 "nbformat": 4,
 "nbformat_minor": 5
}
