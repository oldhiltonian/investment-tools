{
 "cells": [
  {
   "cell_type": "markdown",
   "id": "a53d8b04",
   "metadata": {},
   "source": [
    "TODO\n",
    "- see the FMP.py file"
   ]
  },
  {
   "cell_type": "code",
   "execution_count": 1,
   "id": "a618a132",
   "metadata": {},
   "outputs": [],
   "source": [
    "import requests\n",
    "import pandas as pd\n",
    "from pathlib import Path\n",
    "from FMP import Company\n",
    "from matplotlib import pyplot as plt\n",
    "import datetime as dt\n",
    "\n",
    "key_path = Path().home()/'desktop'/'FinancialModellingPrep_API.txt'\n",
    "with open(key_path) as file:\n",
    "    api_key = file.read()"
   ]
  },
  {
   "cell_type": "code",
   "execution_count": 2,
   "id": "1875a9fa",
   "metadata": {},
   "outputs": [],
   "source": [
    "import yfinance as yf\n",
    "from pandas_datareader import data as pdr\n",
    "yf.pdr_override()"
   ]
  },
  {
   "cell_type": "code",
   "execution_count": 3,
   "id": "03d07524",
   "metadata": {},
   "outputs": [
    {
     "name": "stdout",
     "output_type": "stream",
     "text": [
      "[*********************100%***********************]  1 of 1 completed\n",
      "C:\\Users\\John\\Desktop\\Git\\investment-tools\\Financial Modelling Prep Library\\Company Financial Data\\AAPL\\annual already exists.\n",
      "[*********************100%***********************]  1 of 1 completed\n",
      "There were 34/38 values in ebitdaratio that exceed the 0.05 error tolerance.\n",
      "There were 0/38 values in grossProfitRatio that exceed the 0.05 error tolerance.\n",
      "There were 0/38 values in operatingIncomeRatio that exceed the 0.05 error tolerance.\n",
      "There were 0/38 values in incomeBeforeTaxRatio that exceed the 0.05 error tolerance.\n",
      "There were 2/38 values in netIncomeRatio that exceed the 0.05 error tolerance.\n"
     ]
    }
   ],
   "source": [
    "a = Company('AAPL', api_key=api_key, data='online')"
   ]
  },
  {
   "cell_type": "code",
   "execution_count": 7,
   "id": "6ef9c35e",
   "metadata": {},
   "outputs": [
    {
     "data": {
      "text/plain": [
       "'1985-09-30'"
      ]
     },
     "execution_count": 7,
     "metadata": {},
     "output_type": "execute_result"
    }
   ],
   "source": [
    "str(a.balance_sheets['date'][0])"
   ]
  },
  {
   "cell_type": "code",
   "execution_count": 5,
   "id": "477f8d30",
   "metadata": {},
   "outputs": [
    {
     "data": {
      "text/plain": [
       "str"
      ]
     },
     "execution_count": 5,
     "metadata": {},
     "output_type": "execute_result"
    }
   ],
   "source": [
    "type(a.balance_sheets['date'].iloc[0])"
   ]
  },
  {
   "cell_type": "code",
   "execution_count": 14,
   "id": "b18eb67d",
   "metadata": {},
   "outputs": [
    {
     "data": {
      "text/plain": [
       "['1985-09-30']"
      ]
     },
     "execution_count": 14,
     "metadata": {},
     "output_type": "execute_result"
    }
   ],
   "source": [
    "a.balance_sheets['date'][0].split()"
   ]
  },
  {
   "cell_type": "code",
   "execution_count": 10,
   "id": "2d17d711",
   "metadata": {},
   "outputs": [
    {
     "data": {
      "text/plain": [
       "['acceptedDate',\n",
       " 'calendarYear',\n",
       " 'cik',\n",
       " 'costAndExpenses',\n",
       " 'costOfRevenue',\n",
       " 'depreciationAndAmortization',\n",
       " 'ebitda',\n",
       " 'ebitdaratio',\n",
       " 'eps',\n",
       " 'epsdiluted',\n",
       " 'fillingDate',\n",
       " 'finalLink',\n",
       " 'generalAndAdministrativeExpenses',\n",
       " 'grossProfit',\n",
       " 'grossProfitRatio',\n",
       " 'incomeBeforeTax',\n",
       " 'incomeBeforeTaxRatio',\n",
       " 'incomeTaxExpense',\n",
       " 'interestExpense',\n",
       " 'interestIncome',\n",
       " 'link',\n",
       " 'netIncome',\n",
       " 'netIncomeRatio',\n",
       " 'operatingExpenses',\n",
       " 'operatingIncome',\n",
       " 'operatingIncomeRatio',\n",
       " 'otherExpenses',\n",
       " 'outstandingShares_calc',\n",
       " 'period',\n",
       " 'reportedCurrency',\n",
       " 'researchAndDevelopmentExpenses',\n",
       " 'revenue',\n",
       " 'sellingAndMarketingExpenses',\n",
       " 'sellingGeneralAndAdministrativeExpenses',\n",
       " 'totalOtherIncomeExpensesNet',\n",
       " 'weightedAverageShsOut',\n",
       " 'weightedAverageShsOutDil']"
      ]
     },
     "execution_count": 10,
     "metadata": {},
     "output_type": "execute_result"
    }
   ],
   "source": [
    "sorted(a.income_statements.columns)"
   ]
  },
  {
   "cell_type": "code",
   "execution_count": null,
   "id": "ee87c205",
   "metadata": {},
   "outputs": [],
   "source": [
    "sorted(a.cash_flow_statements.columns)"
   ]
  },
  {
   "cell_type": "code",
   "execution_count": null,
   "id": "f0268af6",
   "metadata": {},
   "outputs": [],
   "source": [
    "a.ratio_errors.sum()"
   ]
  },
  {
   "cell_type": "code",
   "execution_count": 16,
   "id": "84ba7cc2",
   "metadata": {},
   "outputs": [
    {
     "data": {
      "text/plain": [
       "[<matplotlib.lines.Line2D at 0x23417e22910>]"
      ]
     },
     "execution_count": 16,
     "metadata": {},
     "output_type": "execute_result"
    },
    {
     "data": {
      "image/png": "[encoded data removed]",
      "text/plain": [
       "<Figure size 432x288 with 1 Axes>"
      ]
     },
     "metadata": {
      "needs_background": "light"
     },
     "output_type": "display_data"
    }
   ],
   "source": [
    "a.income_statements['eps']\n",
    "x = a.income_statements.index[-10:]\n",
    "y = a.income_statements['eps'][-10:]\n",
    "plt.plot(x,y)"
   ]
  },
  {
   "cell_type": "code",
   "execution_count": 4,
   "id": "1bab049b",
   "metadata": {},
   "outputs": [
    {
     "ename": "NameError",
     "evalue": "name 'a' is not defined",
     "output_type": "error",
     "traceback": [
      "\u001b[1;31m---------------------------------------------------------------------------\u001b[0m",
      "\u001b[1;31mNameError\u001b[0m                                 Traceback (most recent call last)",
      "Input \u001b[1;32mIn [4]\u001b[0m, in \u001b[0;36m<cell line: 1>\u001b[1;34m()\u001b[0m\n\u001b[1;32m----> 1\u001b[0m \u001b[43ma\u001b[49m\u001b[38;5;241m.\u001b[39mcalculated_ratios[\u001b[38;5;124m'\u001b[39m\u001b[38;5;124moperatingProfitMargin\u001b[39m\u001b[38;5;124m'\u001b[39m]\u001b[38;5;241m.\u001b[39miloc[\u001b[38;5;241m0\u001b[39m]\n",
      "\u001b[1;31mNameError\u001b[0m: name 'a' is not defined"
     ]
    }
   ],
   "source": [
    "a.calculated_ratios['operatingProfitMargin'].iloc[0]"
   ]
  },
  {
   "cell_type": "code",
   "execution_count": 6,
   "id": "55afca03",
   "metadata": {},
   "outputs": [],
   "source": [
    "import datetime as dt"
   ]
  },
  {
   "cell_type": "code",
   "execution_count": 13,
   "id": "ad7e6b33",
   "metadata": {},
   "outputs": [
    {
     "data": {
      "text/plain": [
       "datetime.date(1985, 9, 30)"
      ]
     },
     "execution_count": 13,
     "metadata": {},
     "output_type": "execute_result"
    }
   ],
   "source": [
    "dt.date(*[int(i) for i in a.balance_sheets['date'].iloc[0].split('-')])"
   ]
  },
  {
   "cell_type": "code",
   "execution_count": 8,
   "id": "f65fddd2",
   "metadata": {},
   "outputs": [
    {
     "data": {
      "text/plain": [
       "True"
      ]
     },
     "execution_count": 8,
     "metadata": {},
     "output_type": "execute_result"
    }
   ],
   "source": [
    "dt.date(1985, 9, 30) < dt.date(1986, 9, 30)"
   ]
  },
  {
   "cell_type": "code",
   "execution_count": 4,
   "id": "7bab0e0c",
   "metadata": {},
   "outputs": [
    {
     "data": {
      "text/plain": [
       "'1985-09-30'"
      ]
     },
     "execution_count": 4,
     "metadata": {},
     "output_type": "execute_result"
    }
   ],
   "source": [
    "\"1985-09-30 00:00:00-04:00\".split()[0]"
   ]
  },
  {
   "cell_type": "code",
   "execution_count": 5,
   "id": "86449c6c",
   "metadata": {},
   "outputs": [
    {
     "data": {
      "text/plain": [
       "0"
      ]
     },
     "execution_count": 5,
     "metadata": {},
     "output_type": "execute_result"
    }
   ],
   "source": [
    "pd.Series([i for i in range(10)]).iloc[0]"
   ]
  },
  {
   "cell_type": "code",
   "execution_count": null,
   "id": "ec6eaf8e",
   "metadata": {},
   "outputs": [],
   "source": []
  }
 ],
 "metadata": {
  "kernelspec": {
   "display_name": "Python 3 (ipykernel)",
   "language": "python",
   "name": "python3"
  },
  "language_info": {
   "codemirror_mode": {
    "name": "ipython",
    "version": 3
   },
   "file_extension": ".py",
   "mimetype": "text/x-python",
   "name": "python",
   "nbconvert_exporter": "python",
   "pygments_lexer": "ipython3",
   "version": "3.9.12"
  }
 },
 "nbformat": 4,
 "nbformat_minor": 5
}
