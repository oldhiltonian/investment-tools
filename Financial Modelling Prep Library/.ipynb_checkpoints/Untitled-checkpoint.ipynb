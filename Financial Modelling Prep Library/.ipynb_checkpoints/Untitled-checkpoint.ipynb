{
 "cells": [
  {
   "cell_type": "markdown",
   "id": "a53d8b04",
   "metadata": {},
   "source": [
    "TODO\n",
    "- see the FMP.py file"
   ]
  },
  {
   "cell_type": "code",
   "execution_count": 1,
   "id": "a618a132",
   "metadata": {},
   "outputs": [],
   "source": [
    "import requests\n",
    "import pandas as pd\n",
    "from pathlib import Path\n",
    "from FMP import Company\n",
    "from matplotlib import pyplot as plt\n",
    "import datetime as dt\n",
    "import yfinance as yf\n",
    "from pandas_datareader import data as pdr\n",
    "\n",
    "key_path = Path().home()/'desktop'/'FinancialModellingPrep_API.txt'\n",
    "with open(key_path) as file:\n",
    "    api_key = file.read()\n",
    "    \n",
    "\n",
    "yf.pdr_override()"
   ]
  },
  {
   "cell_type": "code",
   "execution_count": 2,
   "id": "03d07524",
   "metadata": {},
   "outputs": [
    {
     "name": "stdout",
     "output_type": "stream",
     "text": [
      "[*********************100%***********************]  1 of 1 completed\n",
      "C:\\Users\\John\\Desktop\\Git\\investment-tools\\Financial Modelling Prep Library\\Company Financial Data\\AAPL\\annual already exists.\n",
      "[*********************100%***********************]  1 of 1 completed\n",
      "There were 0/34 values in ebitdaratio that exceed the 0.05 error tolerance.\n",
      "There were 0/34 values in grossProfitRatio that exceed the 0.05 error tolerance.\n",
      "There were 0/34 values in operatingIncomeRatio that exceed the 0.05 error tolerance.\n",
      "There were 0/34 values in incomeBeforeTaxRatio that exceed the 0.05 error tolerance.\n",
      "There were 1/34 values in netIncomeRatio that exceed the 0.05 error tolerance.\n"
     ]
    }
   ],
   "source": [
    "a = Company('AAPL', api_key=api_key, data='online')"
   ]
  },
  {
   "cell_type": "code",
   "execution_count": 3,
   "id": "cf85a537",
   "metadata": {},
   "outputs": [
    {
     "data": {
      "text/plain": [
       "['acceptedDate',\n",
       " 'calendarYear',\n",
       " 'cik',\n",
       " 'costAndExpenses',\n",
       " 'costOfRevenue',\n",
       " 'date',\n",
       " 'depreciationAndAmortization',\n",
       " 'ebitda',\n",
       " 'ebitdaratio',\n",
       " 'eps',\n",
       " 'epsdiluted',\n",
       " 'fillingDate',\n",
       " 'finalLink',\n",
       " 'generalAndAdministrativeExpenses',\n",
       " 'grossProfit',\n",
       " 'grossProfitRatio',\n",
       " 'incomeBeforeTax',\n",
       " 'incomeBeforeTaxRatio',\n",
       " 'incomeTaxExpense',\n",
       " 'interestExpense',\n",
       " 'interestIncome',\n",
       " 'link',\n",
       " 'netIncome',\n",
       " 'netIncomeRatio',\n",
       " 'operatingExpenses',\n",
       " 'operatingIncome',\n",
       " 'operatingIncomeRatio',\n",
       " 'otherExpenses',\n",
       " 'outstandingShares_calc',\n",
       " 'period',\n",
       " 'reportedCurrency',\n",
       " 'researchAndDevelopmentExpenses',\n",
       " 'revenue',\n",
       " 'sellingAndMarketingExpenses',\n",
       " 'sellingGeneralAndAdministrativeExpenses',\n",
       " 'symbol',\n",
       " 'totalOtherIncomeExpensesNet',\n",
       " 'weightedAverageShsOut',\n",
       " 'weightedAverageShsOutDil']"
      ]
     },
     "execution_count": 3,
     "metadata": {},
     "output_type": "execute_result"
    }
   ],
   "source": [
    "sorted(a.income_statements.keys())"
   ]
  },
  {
   "cell_type": "code",
   "execution_count": 4,
   "id": "6ef9c35e",
   "metadata": {},
   "outputs": [
    {
     "data": {
      "text/plain": [
       "['acceptedDate',\n",
       " 'accountPayables',\n",
       " 'accumulatedOtherComprehensiveIncomeLoss',\n",
       " 'calendarYear',\n",
       " 'capitalLeaseObligations',\n",
       " 'cashAndCashEquivalents',\n",
       " 'cashAndShortTermInvestments',\n",
       " 'cik',\n",
       " 'commonStock',\n",
       " 'date',\n",
       " 'deferredRevenue',\n",
       " 'deferredRevenueNonCurrent',\n",
       " 'deferredTaxLiabilitiesNonCurrent',\n",
       " 'fillingDate',\n",
       " 'finalLink',\n",
       " 'goodwill',\n",
       " 'goodwillAndIntangibleAssets',\n",
       " 'intangibleAssets',\n",
       " 'inventory',\n",
       " 'link',\n",
       " 'longTermDebt',\n",
       " 'longTermInvestments',\n",
       " 'minorityInterest',\n",
       " 'netDebt',\n",
       " 'netReceivables',\n",
       " 'otherAssets',\n",
       " 'otherCurrentAssets',\n",
       " 'otherCurrentLiabilities',\n",
       " 'otherLiabilities',\n",
       " 'otherNonCurrentAssets',\n",
       " 'otherNonCurrentLiabilities',\n",
       " 'othertotalStockholdersEquity',\n",
       " 'period',\n",
       " 'preferredStock',\n",
       " 'propertyPlantEquipmentNet',\n",
       " 'reportedCurrency',\n",
       " 'retainedEarnings',\n",
       " 'shortTermDebt',\n",
       " 'shortTermInvestments',\n",
       " 'symbol',\n",
       " 'taxAssets',\n",
       " 'taxPayables',\n",
       " 'totalAssets',\n",
       " 'totalCurrentAssets',\n",
       " 'totalCurrentLiabilities',\n",
       " 'totalDebt',\n",
       " 'totalEquity',\n",
       " 'totalInvestments',\n",
       " 'totalLiabilities',\n",
       " 'totalLiabilitiesAndStockholdersEquity',\n",
       " 'totalLiabilitiesAndTotalEquity',\n",
       " 'totalNonCurrentAssets',\n",
       " 'totalNonCurrentLiabilities',\n",
       " 'totalStockholdersEquity']"
      ]
     },
     "execution_count": 4,
     "metadata": {},
     "output_type": "execute_result"
    }
   ],
   "source": [
    "(sorted(a.balance_sheets.keys()))"
   ]
  },
  {
   "cell_type": "code",
   "execution_count": 5,
   "id": "477f8d30",
   "metadata": {},
   "outputs": [
    {
     "data": {
      "text/plain": [
       "['acceptedDate',\n",
       " 'accountsPayables',\n",
       " 'accountsReceivables',\n",
       " 'acquisitionsNet',\n",
       " 'calendarYear',\n",
       " 'capitalExpenditure',\n",
       " 'cashAtBeginningOfPeriod',\n",
       " 'cashAtEndOfPeriod',\n",
       " 'changeInWorkingCapital',\n",
       " 'cik',\n",
       " 'commonStockIssued',\n",
       " 'commonStockRepurchased',\n",
       " 'date',\n",
       " 'debtRepayment',\n",
       " 'deferredIncomeTax',\n",
       " 'depreciationAndAmortization',\n",
       " 'dividendsPaid',\n",
       " 'effectOfForexChangesOnCash',\n",
       " 'fillingDate',\n",
       " 'finalLink',\n",
       " 'freeCashFlow',\n",
       " 'inventory',\n",
       " 'investmentsInPropertyPlantAndEquipment',\n",
       " 'link',\n",
       " 'netCashProvidedByOperatingActivities',\n",
       " 'netCashUsedForInvestingActivites',\n",
       " 'netCashUsedProvidedByFinancingActivities',\n",
       " 'netChangeInCash',\n",
       " 'netIncome',\n",
       " 'operatingCashFlow',\n",
       " 'otherFinancingActivites',\n",
       " 'otherInvestingActivites',\n",
       " 'otherNonCashItems',\n",
       " 'otherWorkingCapital',\n",
       " 'period',\n",
       " 'purchasesOfInvestments',\n",
       " 'reportedCurrency',\n",
       " 'salesMaturitiesOfInvestments',\n",
       " 'stockBasedCompensation',\n",
       " 'symbol']"
      ]
     },
     "execution_count": 5,
     "metadata": {},
     "output_type": "execute_result"
    }
   ],
   "source": [
    "(sorted(a.cash_flow_statements.keys()))"
   ]
  },
  {
   "cell_type": "code",
   "execution_count": 6,
   "id": "b18eb67d",
   "metadata": {},
   "outputs": [
    {
     "data": {
      "text/plain": [
       "index\n",
       "AAPL-FY-1989             NaN\n",
       "AAPL-FY-1990             NaN\n",
       "AAPL-FY-1991    5.008667e+08\n",
       "AAPL-FY-1992    5.357667e+08\n",
       "AAPL-FY-1993    9.194667e+08\n",
       "AAPL-FY-1994    1.058378e+09\n",
       "AAPL-FY-1995    1.456678e+09\n",
       "AAPL-FY-1996    1.175145e+09\n",
       "AAPL-FY-1997    9.580000e+08\n",
       "AAPL-FY-1998    3.923333e+08\n",
       "AAPL-FY-1999    1.783333e+08\n",
       "AAPL-FY-2000    4.366667e+07\n",
       "AAPL-FY-2001    2.133333e+07\n",
       "AAPL-FY-2002    2.966667e+07\n",
       "AAPL-FY-2003    3.733333e+07\n",
       "AAPL-FY-2004    6.733333e+07\n",
       "AAPL-FY-2005    1.073333e+08\n",
       "AAPL-FY-2006    1.786667e+08\n",
       "AAPL-FY-2007    2.603333e+08\n",
       "AAPL-FY-2008    3.750000e+08\n",
       "AAPL-FY-2009    4.366667e+08\n",
       "AAPL-FY-2010    6.716667e+08\n",
       "AAPL-FY-2011    7.606667e+08\n",
       "AAPL-FY-2012    8.726667e+08\n",
       "AAPL-FY-2013    1.110333e+09\n",
       "AAPL-FY-2014    1.555333e+09\n",
       "AAPL-FY-2015    2.074667e+09\n",
       "AAPL-FY-2016    2.197333e+09\n",
       "AAPL-FY-2017    3.112000e+09\n",
       "AAPL-FY-2018    3.647667e+09\n",
       "AAPL-FY-2019    4.305667e+09\n",
       "AAPL-FY-2020    4.041000e+09\n",
       "AAPL-FY-2021    4.915667e+09\n",
       "AAPL-FY-2022    5.195667e+09\n",
       "Name: inventory, dtype: float64"
      ]
     },
     "execution_count": 6,
     "metadata": {},
     "output_type": "execute_result"
    }
   ],
   "source": [
    "a.balance_sheets['inventory'].rolling(window=3).mean()"
   ]
  },
  {
   "cell_type": "code",
   "execution_count": 20,
   "id": "d02c7570",
   "metadata": {},
   "outputs": [
    {
     "data": {
      "text/plain": [
       "index\n",
       "AAPL-FY-1989       869100000\n",
       "AAPL-FY-1990       981200000\n",
       "AAPL-FY-1991       704100000\n",
       "AAPL-FY-1992      1072700000\n",
       "AAPL-FY-1993       305800000\n",
       "AAPL-FY-1994       707897000\n",
       "AAPL-FY-1995       849000000\n",
       "AAPL-FY-1996     -1079000000\n",
       "AAPL-FY-1997      -856000000\n",
       "AAPL-FY-1998       502000000\n",
       "AAPL-FY-1999       808000000\n",
       "AAPL-FY-2000      1197000000\n",
       "AAPL-FY-2001        78000000\n",
       "AAPL-FY-2002       216000000\n",
       "AAPL-FY-2003       214000000\n",
       "AAPL-FY-2004       536000000\n",
       "AAPL-FY-2005      1994000000\n",
       "AAPL-FY-2006      3043000000\n",
       "AAPL-FY-2007      5325000000\n",
       "AAPL-FY-2008      7368000000\n",
       "AAPL-FY-2009      8687000000\n",
       "AAPL-FY-2010     19567000000\n",
       "AAPL-FY-2011     36019000000\n",
       "AAPL-FY-2012     59040000000\n",
       "AAPL-FY-2013     57048000000\n",
       "AAPL-FY-2014     61813000000\n",
       "AAPL-FY-2015     84505000000\n",
       "AAPL-FY-2016     73333000000\n",
       "AAPL-FY-2017     76569000000\n",
       "AAPL-FY-2018     87046000000\n",
       "AAPL-FY-2019     81860000000\n",
       "AAPL-FY-2020     81020000000\n",
       "AAPL-FY-2021    123136000000\n",
       "AAPL-FY-2022    133138000000\n",
       "Name: ebitda, dtype: int64"
      ]
     },
     "execution_count": 20,
     "metadata": {},
     "output_type": "execute_result"
    }
   ],
   "source": [
    "a.income_statements['ebitda']"
   ]
  },
  {
   "cell_type": "code",
   "execution_count": 21,
   "id": "e242b013",
   "metadata": {},
   "outputs": [
    {
     "data": {
      "text/plain": [
       "index\n",
       "AAPL-FY-1989      124800000\n",
       "AAPL-FY-1990      202700000\n",
       "AAPL-FY-1991      204400000\n",
       "AAPL-FY-1992      217200000\n",
       "AAPL-FY-1993      166100000\n",
       "AAPL-FY-1994      167958000\n",
       "AAPL-FY-1995      127000000\n",
       "AAPL-FY-1996      156000000\n",
       "AAPL-FY-1997      118000000\n",
       "AAPL-FY-1998      111000000\n",
       "AAPL-FY-1999       85000000\n",
       "AAPL-FY-2000       84000000\n",
       "AAPL-FY-2001      102000000\n",
       "AAPL-FY-2002      118000000\n",
       "AAPL-FY-2003      113000000\n",
       "AAPL-FY-2004      150000000\n",
       "AAPL-FY-2005      179000000\n",
       "AAPL-FY-2006      225000000\n",
       "AAPL-FY-2007      317000000\n",
       "AAPL-FY-2008      473000000\n",
       "AAPL-FY-2009      703000000\n",
       "AAPL-FY-2010     1027000000\n",
       "AAPL-FY-2011     1814000000\n",
       "AAPL-FY-2012     3277000000\n",
       "AAPL-FY-2013     6757000000\n",
       "AAPL-FY-2014     7946000000\n",
       "AAPL-FY-2015    11257000000\n",
       "AAPL-FY-2016    10505000000\n",
       "AAPL-FY-2017    10157000000\n",
       "AAPL-FY-2018    10903000000\n",
       "AAPL-FY-2019    12547000000\n",
       "AAPL-FY-2020    11056000000\n",
       "AAPL-FY-2021    11284000000\n",
       "AAPL-FY-2022    11104000000\n",
       "Name: depreciationAndAmortization, dtype: int64"
      ]
     },
     "execution_count": 21,
     "metadata": {},
     "output_type": "execute_result"
    }
   ],
   "source": [
    "a.cash_flow_statements['depreciationAndAmortization']"
   ]
  },
  {
   "cell_type": "code",
   "execution_count": 5,
   "id": "2d17d711",
   "metadata": {},
   "outputs": [
    {
     "data": {
      "text/plain": [
       "index\n",
       "AAPL-FY-1989      -50300000\n",
       "AAPL-FY-1990      -53800000\n",
       "AAPL-FY-1991      -56500000\n",
       "AAPL-FY-1992      -57200000\n",
       "AAPL-FY-1993      -55600000\n",
       "AAPL-FY-1994      -56572000\n",
       "AAPL-FY-1995      -58000000\n",
       "AAPL-FY-1996      -14000000\n",
       "AAPL-FY-1997              0\n",
       "AAPL-FY-1998              0\n",
       "AAPL-FY-1999              0\n",
       "AAPL-FY-2000              0\n",
       "AAPL-FY-2001              0\n",
       "AAPL-FY-2002              0\n",
       "AAPL-FY-2003              0\n",
       "AAPL-FY-2004              0\n",
       "AAPL-FY-2005              0\n",
       "AAPL-FY-2006              0\n",
       "AAPL-FY-2007              0\n",
       "AAPL-FY-2008              0\n",
       "AAPL-FY-2009              0\n",
       "AAPL-FY-2010              0\n",
       "AAPL-FY-2011              0\n",
       "AAPL-FY-2012    -2488000000\n",
       "AAPL-FY-2013   -10564000000\n",
       "AAPL-FY-2014   -11126000000\n",
       "AAPL-FY-2015   -11561000000\n",
       "AAPL-FY-2016   -12150000000\n",
       "AAPL-FY-2017   -12769000000\n",
       "AAPL-FY-2018   -13712000000\n",
       "AAPL-FY-2019   -14119000000\n",
       "AAPL-FY-2020   -14081000000\n",
       "AAPL-FY-2021   -14467000000\n",
       "AAPL-FY-2022   -14841000000\n",
       "Name: dividendsPaid, dtype: int64"
      ]
     },
     "execution_count": 5,
     "metadata": {},
     "output_type": "execute_result"
    }
   ],
   "source": [
    "a.cash_flow_statements['dividendsPaid']"
   ]
  },
  {
   "cell_type": "code",
   "execution_count": 22,
   "id": "ee87c205",
   "metadata": {},
   "outputs": [
    {
     "data": {
      "text/plain": [
       "index\n",
       "AAPL-FY-1989       759100000\n",
       "AAPL-FY-1990       914700000\n",
       "AAPL-FY-1991       651700000\n",
       "AAPL-FY-1992      1022900000\n",
       "AAPL-FY-1993       276500000\n",
       "AAPL-FY-1994       395419000\n",
       "AAPL-FY-1995       661000000\n",
       "AAPL-FY-1996     -1204000000\n",
       "AAPL-FY-1997      -778000000\n",
       "AAPL-FY-1998       261000000\n",
       "AAPL-FY-1999       386000000\n",
       "AAPL-FY-2000       620000000\n",
       "AAPL-FY-2001      -344000000\n",
       "AAPL-FY-2002        45000000\n",
       "AAPL-FY-2003        25000000\n",
       "AAPL-FY-2004       349000000\n",
       "AAPL-FY-2005      1650000000\n",
       "AAPL-FY-2006      2453000000\n",
       "AAPL-FY-2007      4409000000\n",
       "AAPL-FY-2008      6275000000\n",
       "AAPL-FY-2009      7658000000\n",
       "AAPL-FY-2010     18385000000\n",
       "AAPL-FY-2011     33790000000\n",
       "AAPL-FY-2012     55241000000\n",
       "AAPL-FY-2013     48999000000\n",
       "AAPL-FY-2014     52503000000\n",
       "AAPL-FY-2015     71230000000\n",
       "AAPL-FY-2016     60024000000\n",
       "AAPL-FY-2017     61344000000\n",
       "AAPL-FY-2018     70898000000\n",
       "AAPL-FY-2019     63930000000\n",
       "AAPL-FY-2020     66288000000\n",
       "AAPL-FY-2021    108949000000\n",
       "AAPL-FY-2022    119437000000\n",
       "Name: operatingIncome, dtype: int64"
      ]
     },
     "execution_count": 22,
     "metadata": {},
     "output_type": "execute_result"
    }
   ],
   "source": [
    "a._check_calculated_values['operatingIncome']"
   ]
  },
  {
   "cell_type": "code",
   "execution_count": null,
   "id": "f0268af6",
   "metadata": {},
   "outputs": [],
   "source": [
    "a.ratio_errors.sum()"
   ]
  },
  {
   "cell_type": "code",
   "execution_count": null,
   "id": "84ba7cc2",
   "metadata": {},
   "outputs": [],
   "source": [
    "a.income_statements['eps']\n",
    "x = a.income_statements.index[-10:]\n",
    "y = a.income_statements['eps'][-10:]\n",
    "plt.plot(x,y)"
   ]
  },
  {
   "cell_type": "code",
   "execution_count": null,
   "id": "1bab049b",
   "metadata": {},
   "outputs": [],
   "source": [
    "a.calculated_ratios['operatingProfitMargin'].iloc[0]"
   ]
  },
  {
   "cell_type": "code",
   "execution_count": null,
   "id": "55afca03",
   "metadata": {},
   "outputs": [],
   "source": [
    "import datetime as dt"
   ]
  },
  {
   "cell_type": "code",
   "execution_count": null,
   "id": "ad7e6b33",
   "metadata": {},
   "outputs": [],
   "source": [
    "dt.date(*[int(i) for i in a.balance_sheets['date'].iloc[0].split('-')])"
   ]
  },
  {
   "cell_type": "code",
   "execution_count": null,
   "id": "f65fddd2",
   "metadata": {},
   "outputs": [],
   "source": [
    "dt.date(1985, 9, 30) < dt.date(1986, 9, 30)"
   ]
  },
  {
   "cell_type": "code",
   "execution_count": null,
   "id": "7bab0e0c",
   "metadata": {},
   "outputs": [],
   "source": [
    "\"1985-09-30 00:00:00-04:00\".split()[0]"
   ]
  },
  {
   "cell_type": "code",
   "execution_count": null,
   "id": "86449c6c",
   "metadata": {},
   "outputs": [],
   "source": [
    "pd.Series([i for i in range(10)]).iloc[0]"
   ]
  },
  {
   "cell_type": "code",
   "execution_count": null,
   "id": "ec6eaf8e",
   "metadata": {},
   "outputs": [],
   "source": [
    "a.stock_price_data['date'] = a.stock_price_data.index.date"
   ]
  },
  {
   "cell_type": "code",
   "execution_count": null,
   "id": "529c3c4c",
   "metadata": {},
   "outputs": [],
   "source": [
    "y1 = a.stock_price_data['date'][5]\n",
    "y2 = a.stock_price_data['date'][12]\n",
    "a.stock_price_data[(a.stock_price_data['date'] > y1) & (a.stock_price_data['date']< y2)]"
   ]
  },
  {
   "cell_type": "code",
   "execution_count": 3,
   "id": "e449b2ff",
   "metadata": {},
   "outputs": [],
   "source": [
    "data = [[i for i in range(4)] for j in range(4)]"
   ]
  },
  {
   "cell_type": "code",
   "execution_count": 7,
   "id": "369754fa",
   "metadata": {},
   "outputs": [
    {
     "data": {
      "text/plain": [
       "array([False, False, False, False, False, False, False, False, False,\n",
       "       False, False, False, False, False, False, False, False, False,\n",
       "       False, False, False, False, False, False, False, False, False,\n",
       "       False, False, False, False, False, False, False])"
      ]
     },
     "execution_count": 7,
     "metadata": {},
     "output_type": "execute_result"
    }
   ],
   "source": [
    "a.stock_price_data.index == a.balance_sheets.index"
   ]
  },
  {
   "cell_type": "code",
   "execution_count": 6,
   "id": "5eeab625",
   "metadata": {},
   "outputs": [
    {
     "data": {
      "text/plain": [
       "(34, 34)"
      ]
     },
     "execution_count": 6,
     "metadata": {},
     "output_type": "execute_result"
    }
   ],
   "source": [
    "len(a.stock_price_data), len(a.balance_sheets)"
   ]
  },
  {
   "cell_type": "code",
   "execution_count": 3,
   "id": "226b0f6c",
   "metadata": {},
   "outputs": [],
   "source": [
    "import numpy as np"
   ]
  },
  {
   "cell_type": "code",
   "execution_count": 8,
   "id": "7c336f69",
   "metadata": {},
   "outputs": [],
   "source": [
    "index = sorted(pd.Series(list(set(a.balance_sheets['date']) & set(a.income_statements['date']))))"
   ]
  },
  {
   "cell_type": "code",
   "execution_count": 12,
   "id": "12f59f91",
   "metadata": {},
   "outputs": [
    {
     "data": {
      "text/plain": [
       "38"
      ]
     },
     "execution_count": 12,
     "metadata": {},
     "output_type": "execute_result"
    }
   ],
   "source": [
    "len(a.balance_sheets[a.balance_sheets['date'] == index])"
   ]
  },
  {
   "cell_type": "code",
   "execution_count": 1,
   "id": "8653f7f1",
   "metadata": {},
   "outputs": [],
   "source": [
    "from FMP2 import FinancialData\n",
    "from pathlib import Path\n",
    "key_path = Path().home()/'desktop'/'FinancialModellingPrep_API.txt'\n",
    "with open(key_path) as file:\n",
    "    api_key = file.read()"
   ]
  },
  {
   "cell_type": "code",
   "execution_count": 2,
   "id": "9282e49b",
   "metadata": {},
   "outputs": [
    {
     "name": "stdout",
     "output_type": "stream",
     "text": [
      "[*********************100%***********************]  1 of 1 completed\n",
      "C:\\Users\\John\\Desktop\\Git\\investment-tools\\Financial Modelling Prep Library\\Company Financial Data\\AAPL\\annual already exists. Overwriting data.\n"
     ]
    }
   ],
   "source": [
    "b = FinancialStatements('AAPL', api_key, 'online')"
   ]
  },
  {
   "cell_type": "code",
   "execution_count": 8,
   "id": "80e4c726",
   "metadata": {},
   "outputs": [
    {
     "data": {
      "text/plain": [
       "array([ True,  True,  True,  True,  True,  True,  True,  True,  True,\n",
       "        True,  True,  True,  True,  True,  True,  True,  True,  True,\n",
       "        True,  True,  True,  True,  True,  True,  True,  True,  True,\n",
       "        True,  True,  True,  True,  True,  True,  True])"
      ]
     },
     "execution_count": 8,
     "metadata": {},
     "output_type": "execute_result"
    }
   ],
   "source": [
    "b.income_statements.index == b.cash_flow_statements.index"
   ]
  },
  {
   "cell_type": "code",
   "execution_count": null,
   "id": "9515b30c",
   "metadata": {},
   "outputs": [],
   "source": []
  }
 ],
 "metadata": {
  "kernelspec": {
   "display_name": "Python 3 (ipykernel)",
   "language": "python",
   "name": "python3"
  },
  "language_info": {
   "codemirror_mode": {
    "name": "ipython",
    "version": 3
   },
   "file_extension": ".py",
   "mimetype": "text/x-python",
   "name": "python",
   "nbconvert_exporter": "python",
   "pygments_lexer": "ipython3",
   "version": "3.9.12"
  }
 },
 "nbformat": 4,
 "nbformat_minor": 5
}
