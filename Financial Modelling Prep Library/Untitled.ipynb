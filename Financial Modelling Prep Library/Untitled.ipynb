{
 "cells": [
  {
   "cell_type": "markdown",
   "id": "a53d8b04",
   "metadata": {},
   "source": [
    "TODO\n",
    "- see the FMP.py file"
   ]
  },
  {
   "cell_type": "code",
   "execution_count": 1,
   "id": "a618a132",
   "metadata": {},
   "outputs": [],
   "source": [
    "import requests\n",
    "import pandas as pd\n",
    "from pathlib import Path\n",
    "from FMP import Company\n",
    "from matplotlib import pyplot as plt\n",
    "import datetime as dt\n",
    "import yfinance as yf\n",
    "from pandas_datareader import data as pdr\n",
    "\n",
    "key_path = Path().home()/'desktop'/'FinancialModellingPrep_API.txt'\n",
    "with open(key_path) as file:\n",
    "    api_key = file.read()\n",
    "    \n",
    "\n",
    "yf.pdr_override()"
   ]
  },
  {
   "cell_type": "code",
   "execution_count": 2,
   "id": "03d07524",
   "metadata": {},
   "outputs": [
    {
     "name": "stdout",
     "output_type": "stream",
     "text": [
      "[*********************100%***********************]  1 of 1 completed\n",
      "C:\\Users\\John\\Desktop\\Git\\investment-tools\\Financial Modelling Prep Library\\Company Financial Data\\AAPL\\annual already exists.\n",
      "[*********************100%***********************]  1 of 1 completed\n",
      "There were 34/34 values in ebitdaratio that exceed the 0.05 error tolerance.\n",
      "There were 0/34 values in grossProfitRatio that exceed the 0.05 error tolerance.\n",
      "There were 0/34 values in operatingIncomeRatio that exceed the 0.05 error tolerance.\n",
      "There were 0/34 values in incomeBeforeTaxRatio that exceed the 0.05 error tolerance.\n",
      "There were 1/34 values in netIncomeRatio that exceed the 0.05 error tolerance.\n"
     ]
    }
   ],
   "source": [
    "a = Company('AAPL', api_key=api_key, data='online')"
   ]
  },
  {
   "cell_type": "code",
   "execution_count": 5,
   "id": "2a21a2d9",
   "metadata": {},
   "outputs": [
    {
     "data": {
      "text/plain": [
       "['acceptedDate',\n",
       " 'calendarYear',\n",
       " 'cik',\n",
       " 'costAndExpenses',\n",
       " 'costOfRevenue',\n",
       " 'date',\n",
       " 'depreciationAndAmortization',\n",
       " 'ebitda',\n",
       " 'ebitdaratio',\n",
       " 'eps',\n",
       " 'epsdiluted',\n",
       " 'fillingDate',\n",
       " 'finalLink',\n",
       " 'generalAndAdministrativeExpenses',\n",
       " 'grossProfit',\n",
       " 'grossProfitRatio',\n",
       " 'incomeBeforeTax',\n",
       " 'incomeBeforeTaxRatio',\n",
       " 'incomeTaxExpense',\n",
       " 'interestExpense',\n",
       " 'interestIncome',\n",
       " 'link',\n",
       " 'netIncome',\n",
       " 'netIncomeRatio',\n",
       " 'operatingExpenses',\n",
       " 'operatingIncome',\n",
       " 'operatingIncomeRatio',\n",
       " 'otherExpenses',\n",
       " 'outstandingShares_calc',\n",
       " 'period',\n",
       " 'reportedCurrency',\n",
       " 'researchAndDevelopmentExpenses',\n",
       " 'revenue',\n",
       " 'sellingAndMarketingExpenses',\n",
       " 'sellingGeneralAndAdministrativeExpenses',\n",
       " 'symbol',\n",
       " 'totalOtherIncomeExpensesNet',\n",
       " 'weightedAverageShsOut',\n",
       " 'weightedAverageShsOutDil']"
      ]
     },
     "execution_count": 5,
     "metadata": {},
     "output_type": "execute_result"
    }
   ],
   "source": [
    "sorted(a.income_statements.keys())"
   ]
  },
  {
   "cell_type": "code",
   "execution_count": 9,
   "id": "6ef9c35e",
   "metadata": {},
   "outputs": [
    {
     "data": {
      "text/plain": [
       "['acceptedDate',\n",
       " 'accountPayables',\n",
       " 'accumulatedOtherComprehensiveIncomeLoss',\n",
       " 'calendarYear',\n",
       " 'capitalLeaseObligations',\n",
       " 'cashAndCashEquivalents',\n",
       " 'cashAndShortTermInvestments',\n",
       " 'cik',\n",
       " 'commonStock',\n",
       " 'date',\n",
       " 'deferredRevenue',\n",
       " 'deferredRevenueNonCurrent',\n",
       " 'deferredTaxLiabilitiesNonCurrent',\n",
       " 'fillingDate',\n",
       " 'finalLink',\n",
       " 'goodwill',\n",
       " 'goodwillAndIntangibleAssets',\n",
       " 'intangibleAssets',\n",
       " 'inventory',\n",
       " 'link',\n",
       " 'longTermDebt',\n",
       " 'longTermInvestments',\n",
       " 'minorityInterest',\n",
       " 'netDebt',\n",
       " 'netReceivables',\n",
       " 'otherAssets',\n",
       " 'otherCurrentAssets',\n",
       " 'otherCurrentLiabilities',\n",
       " 'otherLiabilities',\n",
       " 'otherNonCurrentAssets',\n",
       " 'otherNonCurrentLiabilities',\n",
       " 'othertotalStockholdersEquity',\n",
       " 'period',\n",
       " 'preferredStock',\n",
       " 'propertyPlantEquipmentNet',\n",
       " 'reportedCurrency',\n",
       " 'retainedEarnings',\n",
       " 'shortTermDebt',\n",
       " 'shortTermInvestments',\n",
       " 'symbol',\n",
       " 'taxAssets',\n",
       " 'taxPayables',\n",
       " 'totalAssets',\n",
       " 'totalCurrentAssets',\n",
       " 'totalCurrentLiabilities',\n",
       " 'totalDebt',\n",
       " 'totalEquity',\n",
       " 'totalInvestments',\n",
       " 'totalLiabilities',\n",
       " 'totalLiabilitiesAndStockholdersEquity',\n",
       " 'totalLiabilitiesAndTotalEquity',\n",
       " 'totalNonCurrentAssets',\n",
       " 'totalNonCurrentLiabilities',\n",
       " 'totalStockholdersEquity']"
      ]
     },
     "execution_count": 9,
     "metadata": {},
     "output_type": "execute_result"
    }
   ],
   "source": [
    "(sorted(a.balance_sheets.keys()))"
   ]
  },
  {
   "cell_type": "code",
   "execution_count": 7,
   "id": "477f8d30",
   "metadata": {},
   "outputs": [
    {
     "data": {
      "text/plain": [
       "['acceptedDate',\n",
       " 'accountsPayables',\n",
       " 'accountsReceivables',\n",
       " 'acquisitionsNet',\n",
       " 'calendarYear',\n",
       " 'capitalExpenditure',\n",
       " 'cashAtBeginningOfPeriod',\n",
       " 'cashAtEndOfPeriod',\n",
       " 'changeInWorkingCapital',\n",
       " 'cik',\n",
       " 'commonStockIssued',\n",
       " 'commonStockRepurchased',\n",
       " 'date',\n",
       " 'debtRepayment',\n",
       " 'deferredIncomeTax',\n",
       " 'depreciationAndAmortization',\n",
       " 'dividendsPaid',\n",
       " 'effectOfForexChangesOnCash',\n",
       " 'fillingDate',\n",
       " 'finalLink',\n",
       " 'freeCashFlow',\n",
       " 'inventory',\n",
       " 'investmentsInPropertyPlantAndEquipment',\n",
       " 'link',\n",
       " 'netCashProvidedByOperatingActivities',\n",
       " 'netCashUsedForInvestingActivites',\n",
       " 'netCashUsedProvidedByFinancingActivities',\n",
       " 'netChangeInCash',\n",
       " 'netIncome',\n",
       " 'operatingCashFlow',\n",
       " 'otherFinancingActivites',\n",
       " 'otherInvestingActivites',\n",
       " 'otherNonCashItems',\n",
       " 'otherWorkingCapital',\n",
       " 'period',\n",
       " 'purchasesOfInvestments',\n",
       " 'reportedCurrency',\n",
       " 'salesMaturitiesOfInvestments',\n",
       " 'stockBasedCompensation',\n",
       " 'symbol']"
      ]
     },
     "execution_count": 7,
     "metadata": {},
     "output_type": "execute_result"
    }
   ],
   "source": [
    "(sorted(a.cash_flow_statements.keys()))"
   ]
  },
  {
   "cell_type": "code",
   "execution_count": 12,
   "id": "b18eb67d",
   "metadata": {},
   "outputs": [
    {
     "data": {
      "text/plain": [
       "(38, 38, 34)"
      ]
     },
     "execution_count": 12,
     "metadata": {},
     "output_type": "execute_result"
    }
   ],
   "source": [
    "len(a.balance_sheets), len(a.income_statements), len(a.cash_flow_statements)"
   ]
  },
  {
   "cell_type": "code",
   "execution_count": null,
   "id": "2d17d711",
   "metadata": {},
   "outputs": [],
   "source": [
    "sorted(a.income_statements.columns)"
   ]
  },
  {
   "cell_type": "code",
   "execution_count": null,
   "id": "ee87c205",
   "metadata": {},
   "outputs": [],
   "source": [
    "sorted(a.cash_flow_statements.columns)"
   ]
  },
  {
   "cell_type": "code",
   "execution_count": null,
   "id": "f0268af6",
   "metadata": {},
   "outputs": [],
   "source": [
    "a.ratio_errors.sum()"
   ]
  },
  {
   "cell_type": "code",
   "execution_count": null,
   "id": "84ba7cc2",
   "metadata": {},
   "outputs": [],
   "source": [
    "a.income_statements['eps']\n",
    "x = a.income_statements.index[-10:]\n",
    "y = a.income_statements['eps'][-10:]\n",
    "plt.plot(x,y)"
   ]
  },
  {
   "cell_type": "code",
   "execution_count": null,
   "id": "1bab049b",
   "metadata": {},
   "outputs": [],
   "source": [
    "a.calculated_ratios['operatingProfitMargin'].iloc[0]"
   ]
  },
  {
   "cell_type": "code",
   "execution_count": null,
   "id": "55afca03",
   "metadata": {},
   "outputs": [],
   "source": [
    "import datetime as dt"
   ]
  },
  {
   "cell_type": "code",
   "execution_count": null,
   "id": "ad7e6b33",
   "metadata": {},
   "outputs": [],
   "source": [
    "dt.date(*[int(i) for i in a.balance_sheets['date'].iloc[0].split('-')])"
   ]
  },
  {
   "cell_type": "code",
   "execution_count": null,
   "id": "f65fddd2",
   "metadata": {},
   "outputs": [],
   "source": [
    "dt.date(1985, 9, 30) < dt.date(1986, 9, 30)"
   ]
  },
  {
   "cell_type": "code",
   "execution_count": null,
   "id": "7bab0e0c",
   "metadata": {},
   "outputs": [],
   "source": [
    "\"1985-09-30 00:00:00-04:00\".split()[0]"
   ]
  },
  {
   "cell_type": "code",
   "execution_count": null,
   "id": "86449c6c",
   "metadata": {},
   "outputs": [],
   "source": [
    "pd.Series([i for i in range(10)]).iloc[0]"
   ]
  },
  {
   "cell_type": "code",
   "execution_count": null,
   "id": "ec6eaf8e",
   "metadata": {},
   "outputs": [],
   "source": [
    "a.stock_price_data['date'] = a.stock_price_data.index.date"
   ]
  },
  {
   "cell_type": "code",
   "execution_count": null,
   "id": "90eef8af",
   "metadata": {},
   "outputs": [],
   "source": [
    "y1 = a.stock_price_data['date'][5]\n",
    "y2 = a.stock_price_data['date'][12]\n",
    "a.stock_price_data[(a.stock_price_data['date'] > y1) & (a.stock_price_data['date']< y2)]"
   ]
  },
  {
   "cell_type": "code",
   "execution_count": 3,
   "id": "e00c129d",
   "metadata": {},
   "outputs": [],
   "source": [
    "data = [[i for i in range(4)] for j in range(4)]"
   ]
  },
  {
   "cell_type": "code",
   "execution_count": 4,
   "id": "5f85b67a",
   "metadata": {},
   "outputs": [
    {
     "data": {
      "text/plain": [
       "index\n",
       "AAPL-FY-1989    True\n",
       "AAPL-FY-1990    True\n",
       "AAPL-FY-1991    True\n",
       "AAPL-FY-1992    True\n",
       "AAPL-FY-1993    True\n",
       "AAPL-FY-1994    True\n",
       "AAPL-FY-1995    True\n",
       "AAPL-FY-1996    True\n",
       "AAPL-FY-1997    True\n",
       "AAPL-FY-1998    True\n",
       "AAPL-FY-1999    True\n",
       "AAPL-FY-2000    True\n",
       "AAPL-FY-2001    True\n",
       "AAPL-FY-2002    True\n",
       "AAPL-FY-2003    True\n",
       "AAPL-FY-2004    True\n",
       "AAPL-FY-2005    True\n",
       "AAPL-FY-2006    True\n",
       "AAPL-FY-2007    True\n",
       "AAPL-FY-2008    True\n",
       "AAPL-FY-2009    True\n",
       "AAPL-FY-2010    True\n",
       "AAPL-FY-2011    True\n",
       "AAPL-FY-2012    True\n",
       "AAPL-FY-2013    True\n",
       "AAPL-FY-2014    True\n",
       "AAPL-FY-2015    True\n",
       "AAPL-FY-2016    True\n",
       "AAPL-FY-2017    True\n",
       "AAPL-FY-2018    True\n",
       "AAPL-FY-2019    True\n",
       "AAPL-FY-2020    True\n",
       "AAPL-FY-2021    True\n",
       "AAPL-FY-2022    True\n",
       "Name: date, dtype: bool"
      ]
     },
     "execution_count": 4,
     "metadata": {},
     "output_type": "execute_result"
    }
   ],
   "source": [
    "a.cash_flow_statements['date'] == a.balance_sheets['date']"
   ]
  },
  {
   "cell_type": "code",
   "execution_count": 4,
   "id": "23127254",
   "metadata": {},
   "outputs": [
    {
     "ename": "NameError",
     "evalue": "name 'a' is not defined",
     "output_type": "error",
     "traceback": [
      "\u001b[1;31m---------------------------------------------------------------------------\u001b[0m",
      "\u001b[1;31mNameError\u001b[0m                                 Traceback (most recent call last)",
      "Input \u001b[1;32mIn [4]\u001b[0m, in \u001b[0;36m<cell line: 1>\u001b[1;34m()\u001b[0m\n\u001b[1;32m----> 1\u001b[0m \u001b[43ma\u001b[49m\u001b[38;5;241m.\u001b[39mbalance_sheets[\u001b[38;5;124m'\u001b[39m\u001b[38;5;124mdate\u001b[39m\u001b[38;5;124m'\u001b[39m]\n",
      "\u001b[1;31mNameError\u001b[0m: name 'a' is not defined"
     ]
    }
   ],
   "source": [
    "a.balance_sheets['date']"
   ]
  },
  {
   "cell_type": "code",
   "execution_count": 3,
   "id": "ea6ce756",
   "metadata": {},
   "outputs": [],
   "source": [
    "import numpy as np"
   ]
  },
  {
   "cell_type": "code",
   "execution_count": 8,
   "id": "3e9bf81b",
   "metadata": {},
   "outputs": [],
   "source": [
    "index = sorted(pd.Series(list(set(a.balance_sheets['date']) & set(a.income_statements['date']))))"
   ]
  },
  {
   "cell_type": "code",
   "execution_count": 12,
   "id": "810e8589",
   "metadata": {},
   "outputs": [
    {
     "data": {
      "text/plain": [
       "38"
      ]
     },
     "execution_count": 12,
     "metadata": {},
     "output_type": "execute_result"
    }
   ],
   "source": [
    "len(a.balance_sheets[a.balance_sheets['date'] == index])"
   ]
  },
  {
   "cell_type": "code",
   "execution_count": null,
   "id": "0955c05b",
   "metadata": {},
   "outputs": [],
   "source": []
  }
 ],
 "metadata": {
  "kernelspec": {
   "display_name": "Python 3 (ipykernel)",
   "language": "python",
   "name": "python3"
  },
  "language_info": {
   "codemirror_mode": {
    "name": "ipython",
    "version": 3
   },
   "file_extension": ".py",
   "mimetype": "text/x-python",
   "name": "python",
   "nbconvert_exporter": "python",
   "pygments_lexer": "ipython3",
   "version": "3.9.12"
  }
 },
 "nbformat": 4,
 "nbformat_minor": 5
}
