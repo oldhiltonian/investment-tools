{
 "cells": [
  {
   "cell_type": "markdown",
   "id": "a53d8b04",
   "metadata": {},
   "source": [
    "TODO\n",
    "- see the FMP.py file"
   ]
  },
  {
   "cell_type": "code",
   "execution_count": 1,
   "id": "a618a132",
   "metadata": {},
   "outputs": [],
   "source": [
    "import requests\n",
    "import pandas as pd\n",
    "from pathlib import Path\n",
    "from FMP import Company\n",
    "from matplotlib import pyplot as plt\n",
    "import datetime as dt\n",
    "import yfinance as yf\n",
    "from pandas_datareader import data as pdr\n",
    "\n",
    "key_path = Path().home()/'desktop'/'FinancialModellingPrep_API.txt'\n",
    "with open(key_path) as file:\n",
    "    api_key = file.read()\n",
    "    \n",
    "\n",
    "yf.pdr_override()"
   ]
  },
  {
   "cell_type": "code",
   "execution_count": 2,
   "id": "03d07524",
   "metadata": {},
   "outputs": [
    {
     "name": "stdout",
     "output_type": "stream",
     "text": [
      "[*********************100%***********************]  1 of 1 completed\n",
      "C:\\Users\\John\\Desktop\\Git\\investment-tools\\Financial Modelling Prep Library\\Company Financial Data\\AAPL\\annual already exists.\n",
      "[*********************100%***********************]  1 of 1 completed\n",
      "There were 34/38 values in ebitdaratio that exceed the 0.05 error tolerance.\n",
      "There were 0/38 values in grossProfitRatio that exceed the 0.05 error tolerance.\n",
      "There were 0/38 values in operatingIncomeRatio that exceed the 0.05 error tolerance.\n",
      "There were 0/38 values in incomeBeforeTaxRatio that exceed the 0.05 error tolerance.\n",
      "There were 2/38 values in netIncomeRatio that exceed the 0.05 error tolerance.\n"
     ]
    }
   ],
   "source": [
    "a = Company('AAPL', api_key=api_key, data='online')"
   ]
  },
  {
   "cell_type": "code",
   "execution_count": 6,
   "id": "6974074f",
   "metadata": {},
   "outputs": [
    {
     "data": {
      "text/plain": [
       "date\n",
       "1989-09-30    False\n",
       "1990-09-30     True\n",
       "1991-09-30     True\n",
       "1992-09-30     True\n",
       "1993-09-30     True\n",
       "1994-09-30     True\n",
       "1995-09-29     True\n",
       "1996-09-27     True\n",
       "1997-09-26     True\n",
       "1998-09-25     True\n",
       "1999-09-25     True\n",
       "2000-09-30     True\n",
       "2001-09-29     True\n",
       "2002-09-28     True\n",
       "2003-09-27     True\n",
       "2004-09-25     True\n",
       "2005-09-24     True\n",
       "2006-09-30     True\n",
       "2007-09-29     True\n",
       "2008-09-27     True\n",
       "2009-09-26     True\n",
       "2010-09-25     True\n",
       "2011-09-24     True\n",
       "2012-09-29     True\n",
       "2013-09-28     True\n",
       "2014-09-27     True\n",
       "2015-09-26     True\n",
       "2016-09-24     True\n",
       "2017-09-30     True\n",
       "2018-09-29     True\n",
       "2019-09-28     True\n",
       "2020-09-26     True\n",
       "2021-09-25     True\n",
       "2022-09-24     True\n",
       "dtype: bool"
      ]
     },
     "execution_count": 6,
     "metadata": {},
     "output_type": "execute_result"
    }
   ],
   "source": [
    "a.stock_price_data['low'] < a.stock_price_data['high']"
   ]
  },
  {
   "cell_type": "code",
   "execution_count": null,
   "id": "6ef9c35e",
   "metadata": {},
   "outputs": [],
   "source": []
  },
  {
   "cell_type": "code",
   "execution_count": null,
   "id": "477f8d30",
   "metadata": {},
   "outputs": [],
   "source": [
    "type(a.balance_sheets['date'].iloc[0])"
   ]
  },
  {
   "cell_type": "code",
   "execution_count": null,
   "id": "b18eb67d",
   "metadata": {},
   "outputs": [],
   "source": [
    "a.balance_sheets['date'][0].split()"
   ]
  },
  {
   "cell_type": "code",
   "execution_count": null,
   "id": "2d17d711",
   "metadata": {},
   "outputs": [],
   "source": [
    "sorted(a.income_statements.columns)"
   ]
  },
  {
   "cell_type": "code",
   "execution_count": null,
   "id": "ee87c205",
   "metadata": {},
   "outputs": [],
   "source": [
    "sorted(a.cash_flow_statements.columns)"
   ]
  },
  {
   "cell_type": "code",
   "execution_count": null,
   "id": "f0268af6",
   "metadata": {},
   "outputs": [],
   "source": [
    "a.ratio_errors.sum()"
   ]
  },
  {
   "cell_type": "code",
   "execution_count": null,
   "id": "84ba7cc2",
   "metadata": {},
   "outputs": [],
   "source": [
    "a.income_statements['eps']\n",
    "x = a.income_statements.index[-10:]\n",
    "y = a.income_statements['eps'][-10:]\n",
    "plt.plot(x,y)"
   ]
  },
  {
   "cell_type": "code",
   "execution_count": null,
   "id": "1bab049b",
   "metadata": {},
   "outputs": [],
   "source": [
    "a.calculated_ratios['operatingProfitMargin'].iloc[0]"
   ]
  },
  {
   "cell_type": "code",
   "execution_count": null,
   "id": "55afca03",
   "metadata": {},
   "outputs": [],
   "source": [
    "import datetime as dt"
   ]
  },
  {
   "cell_type": "code",
   "execution_count": null,
   "id": "ad7e6b33",
   "metadata": {},
   "outputs": [],
   "source": [
    "dt.date(*[int(i) for i in a.balance_sheets['date'].iloc[0].split('-')])"
   ]
  },
  {
   "cell_type": "code",
   "execution_count": null,
   "id": "f65fddd2",
   "metadata": {},
   "outputs": [],
   "source": [
    "dt.date(1985, 9, 30) < dt.date(1986, 9, 30)"
   ]
  },
  {
   "cell_type": "code",
   "execution_count": null,
   "id": "7bab0e0c",
   "metadata": {},
   "outputs": [],
   "source": [
    "\"1985-09-30 00:00:00-04:00\".split()[0]"
   ]
  },
  {
   "cell_type": "code",
   "execution_count": null,
   "id": "86449c6c",
   "metadata": {},
   "outputs": [],
   "source": [
    "pd.Series([i for i in range(10)]).iloc[0]"
   ]
  },
  {
   "cell_type": "code",
   "execution_count": null,
   "id": "ec6eaf8e",
   "metadata": {},
   "outputs": [],
   "source": [
    "a.stock_price_data['date'] = a.stock_price_data.index.date"
   ]
  },
  {
   "cell_type": "code",
   "execution_count": null,
   "id": "f16a024a",
   "metadata": {},
   "outputs": [],
   "source": [
    "y1 = a.stock_price_data['date'][5]\n",
    "y2 = a.stock_price_data['date'][12]\n",
    "a.stock_price_data[(a.stock_price_data['date'] > y1) & (a.stock_price_data['date']< y2)]"
   ]
  },
  {
   "cell_type": "code",
   "execution_count": 3,
   "id": "13e81c2f",
   "metadata": {},
   "outputs": [],
   "source": [
    "data = [[i for i in range(4)] for j in range(4)]"
   ]
  },
  {
   "cell_type": "code",
   "execution_count": 4,
   "id": "0c490745",
   "metadata": {},
   "outputs": [
    {
     "data": {
      "text/html": [
       "<div>\n",
       "<style scoped>\n",
       "    .dataframe tbody tr th:only-of-type {\n",
       "        vertical-align: middle;\n",
       "    }\n",
       "\n",
       "    .dataframe tbody tr th {\n",
       "        vertical-align: top;\n",
       "    }\n",
       "\n",
       "    .dataframe thead th {\n",
       "        text-align: right;\n",
       "    }\n",
       "</style>\n",
       "<table border=\"1\" class=\"dataframe\">\n",
       "  <thead>\n",
       "    <tr style=\"text-align: right;\">\n",
       "      <th></th>\n",
       "      <th>0</th>\n",
       "      <th>1</th>\n",
       "      <th>2</th>\n",
       "      <th>3</th>\n",
       "    </tr>\n",
       "  </thead>\n",
       "  <tbody>\n",
       "    <tr>\n",
       "      <th>0</th>\n",
       "      <td>0</td>\n",
       "      <td>1</td>\n",
       "      <td>2</td>\n",
       "      <td>3</td>\n",
       "    </tr>\n",
       "    <tr>\n",
       "      <th>1</th>\n",
       "      <td>0</td>\n",
       "      <td>1</td>\n",
       "      <td>2</td>\n",
       "      <td>3</td>\n",
       "    </tr>\n",
       "    <tr>\n",
       "      <th>2</th>\n",
       "      <td>0</td>\n",
       "      <td>1</td>\n",
       "      <td>2</td>\n",
       "      <td>3</td>\n",
       "    </tr>\n",
       "    <tr>\n",
       "      <th>3</th>\n",
       "      <td>0</td>\n",
       "      <td>1</td>\n",
       "      <td>2</td>\n",
       "      <td>3</td>\n",
       "    </tr>\n",
       "  </tbody>\n",
       "</table>\n",
       "</div>"
      ],
      "text/plain": [
       "   0  1  2  3\n",
       "0  0  1  2  3\n",
       "1  0  1  2  3\n",
       "2  0  1  2  3\n",
       "3  0  1  2  3"
      ]
     },
     "execution_count": 4,
     "metadata": {},
     "output_type": "execute_result"
    }
   ],
   "source": [
    "pd.DataFrame(data)"
   ]
  },
  {
   "cell_type": "code",
   "execution_count": null,
   "id": "fe65b97b",
   "metadata": {},
   "outputs": [],
   "source": []
  }
 ],
 "metadata": {
  "kernelspec": {
   "display_name": "Python 3 (ipykernel)",
   "language": "python",
   "name": "python3"
  },
  "language_info": {
   "codemirror_mode": {
    "name": "ipython",
    "version": 3
   },
   "file_extension": ".py",
   "mimetype": "text/x-python",
   "name": "python",
   "nbconvert_exporter": "python",
   "pygments_lexer": "ipython3",
   "version": "3.9.12"
  }
 },
 "nbformat": 4,
 "nbformat_minor": 5
}
